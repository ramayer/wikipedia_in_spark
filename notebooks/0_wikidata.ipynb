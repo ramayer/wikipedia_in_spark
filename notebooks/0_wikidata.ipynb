{
 "cells": [
  {
   "cell_type": "code",
   "execution_count": null,
   "id": "hollywood-ivory",
   "metadata": {},
   "outputs": [],
   "source": [
    "wikidata_src = 'https://dumps.wikimedia.org/wikidatawiki/entities/latest-all.json.bz2'"
   ]
  },
  {
   "cell_type": "code",
   "execution_count": null,
   "id": "right-position",
   "metadata": {},
   "outputs": [
    {
     "name": "stdout",
     "output_type": "stream",
     "text": [
      "--2021-06-06 23:11:16--  https://dumps.wikimedia.org/wikidatawiki/entities/latest-all.json.bz2\n",
      "Resolving dumps.wikimedia.org (dumps.wikimedia.org)... 208.80.154.7, 2620:0:861:1:208:80:154:7\n",
      "Connecting to dumps.wikimedia.org (dumps.wikimedia.org)|208.80.154.7|:443... connected.\n",
      "HTTP request sent, awaiting response... 200 OK\n",
      "Length: 67095509845 (62G) [application/octet-stream]\n",
      "Saving to: ‘latest-all.json.bz2’\n",
      "\n",
      "latest-all.json.bz2  29%[====>               ]  18.17G  2.47MB/s    eta 2h 59m "
     ]
    }
   ],
   "source": [
    "! mkdir -p data/wikidata_src\n",
    "! (cd data/wikidata_src; wget -nc https://dumps.wikimedia.org/wikidatawiki/entities/latest-all.json.bz2)\n",
    "# !bunzip2 -c <  './data/wikipedia_src/enwiki-latest-pages-articles-multistream.xml.bz2' | head -100\n"
   ]
  },
  {
   "cell_type": "code",
   "execution_count": null,
   "id": "victorian-european",
   "metadata": {},
   "outputs": [],
   "source": [
    "!ls"
   ]
  }
 ],
 "metadata": {
  "kernelspec": {
   "display_name": "Python 3",
   "language": "python",
   "name": "python3"
  },
  "language_info": {
   "codemirror_mode": {
    "name": "ipython",
    "version": 3
   },
   "file_extension": ".py",
   "mimetype": "text/x-python",
   "name": "python",
   "nbconvert_exporter": "python",
   "pygments_lexer": "ipython3",
   "version": "3.8.8"
  }
 },
 "nbformat": 4,
 "nbformat_minor": 5
}
