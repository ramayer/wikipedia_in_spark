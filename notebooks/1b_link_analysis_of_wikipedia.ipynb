{
 "cells": [
  {
   "cell_type": "markdown",
   "id": "crude-dairy",
   "metadata": {},
   "source": [
    "# Process Wikipedia in Spark\n",
    "\n",
    "## TL/DR:\n",
    "\n",
    "1. Start with a Wikipedia Dump parsed into spark dataframes from the other notebook.\n",
    "2. Analyze links."
   ]
  },
  {
   "cell_type": "markdown",
   "id": "daily-halloween",
   "metadata": {},
   "source": [
    "## Install dependencies\n",
    "\n",
    "This is using `%pip` rather than `pkg_rsources.resolve()` because on databricks clusters, `%pip` will make sure the libraries are available on the spark worker nodes."
   ]
  },
  {
   "cell_type": "code",
   "execution_count": 21,
   "id": "recognized-tampa",
   "metadata": {},
   "outputs": [],
   "source": [
    "required_packages = {\"mwparserfromhell\",\"geopandas\",\"h3\",\"geocoder\",\"pydeck\"}\n",
    "\n",
    "import pkg_resources\n",
    "for lib in required_packages - {pkg.key for pkg in pkg_resources.working_set}:\n",
    "    print(f\"installing {lib}\")\n",
    "    %pip install -q --upgrade pip\n",
    "    %pip install -q $lib\n",
    "    pkg_resources.require(lib)\n"
   ]
  },
  {
   "cell_type": "code",
   "execution_count": 23,
   "id": "listed-interface",
   "metadata": {},
   "outputs": [],
   "source": [
    "import json\n",
    "import mwparserfromhell\n",
    "import subprocess\n",
    "import json\n",
    "import time"
   ]
  },
  {
   "cell_type": "markdown",
   "id": "sealed-danish",
   "metadata": {},
   "source": [
    "## Launch Spark (if running on a standalone environment)\n",
    "\n",
    "* On databricks clusters the Spark Context will already have existed."
   ]
  },
  {
   "cell_type": "code",
   "execution_count": 32,
   "id": "multiple-vision",
   "metadata": {},
   "outputs": [
    {
     "data": {
      "text/html": [
       "\n",
       "            <div>\n",
       "                <p><b>SparkSession - hive</b></p>\n",
       "                \n",
       "        <div>\n",
       "            <p><b>SparkContext</b></p>\n",
       "\n",
       "            <p><a href=\"http://08651cc65d10:4040\">Spark UI</a></p>\n",
       "\n",
       "            <dl>\n",
       "              <dt>Version</dt>\n",
       "                <dd><code>v3.1.1</code></dd>\n",
       "              <dt>Master</dt>\n",
       "                <dd><code>local[*]</code></dd>\n",
       "              <dt>AppName</dt>\n",
       "                <dd><code>MyApp</code></dd>\n",
       "            </dl>\n",
       "        </div>\n",
       "        \n",
       "            </div>\n",
       "        "
      ],
      "text/plain": [
       "<pyspark.sql.session.SparkSession at 0x7f5fe9ec3070>"
      ]
     },
     "execution_count": 32,
     "metadata": {},
     "output_type": "execute_result"
    }
   ],
   "source": [
    "if not \"spark\" in locals():\n",
    "    import pyspark\n",
    "    MAX_MEMORY = \"8g\"  # 24 gives OOM here. # 6 gives \"out of heap space\"\n",
    "    spark = (pyspark.sql.SparkSession.builder.appName(\"MyApp\") \n",
    "        .config(\"spark.jars.packages\", \"io.delta:delta-core_2.12:0.8.0\") \n",
    "        .config(\"spark.sql.extensions\", \"io.delta.sql.DeltaSparkSessionExtension\") \n",
    "        .config(\"spark.sql.catalog.spark_catalog\", \"org.apache.spark.sql.delta.catalog.DeltaCatalog\") \n",
    "        .config(\"spark.executor.memory\", MAX_MEMORY) \n",
    "        .config(\"spark.driver.memory\", MAX_MEMORY) \n",
    "        .config(\"spark.python.worker.reuse\",False)\n",
    "        .config(\"spark.task.maxFailures\",5)\n",
    "        .enableHiveSupport() \n",
    "        .getOrCreate()        \n",
    "        )\n",
    "spark"
   ]
  },
  {
   "cell_type": "code",
   "execution_count": 35,
   "id": "agricultural-matthew",
   "metadata": {},
   "outputs": [
    {
     "name": "stdout",
     "output_type": "stream",
     "text": [
      "root\n",
      " |-- title: string (nullable = true)\n",
      " |-- body: string (nullable = true)\n",
      " |-- infoboxes: array (nullable = true)\n",
      " |    |-- element: struct (containsNull = true)\n",
      " |    |    |-- name: string (nullable = true)\n",
      " |    |    |-- params: map (nullable = true)\n",
      " |    |    |    |-- key: string\n",
      " |    |    |    |-- value: string (valueContainsNull = true)\n",
      " |    |    |-- body: string (nullable = true)\n",
      " |-- templates: array (nullable = true)\n",
      " |    |-- element: struct (containsNull = true)\n",
      " |    |    |-- name: string (nullable = true)\n",
      " |    |    |-- params: map (nullable = true)\n",
      " |    |    |    |-- key: string\n",
      " |    |    |    |-- value: string (valueContainsNull = true)\n",
      " |    |    |-- body: string (nullable = true)\n",
      " |-- extlinks: array (nullable = true)\n",
      " |    |-- element: struct (containsNull = true)\n",
      " |    |    |-- title: string (nullable = true)\n",
      " |    |    |-- url: string (nullable = true)\n",
      " |-- wikilinks: array (nullable = true)\n",
      " |    |-- element: struct (containsNull = true)\n",
      " |    |    |-- text: string (nullable = true)\n",
      " |    |    |-- title: string (nullable = true)\n",
      " |-- coords: array (nullable = true)\n",
      " |    |-- element: struct (containsNull = true)\n",
      " |    |    |-- lat: float (nullable = true)\n",
      " |    |    |-- lon: float (nullable = true)\n",
      " |    |    |-- h3: array (nullable = true)\n",
      " |    |    |    |-- element: string (containsNull = true)\n",
      " |-- _error_: string (nullable = true)\n",
      "\n"
     ]
    }
   ],
   "source": [
    "spark.sql('''\n",
    "  select *\n",
    "  from wikipedia_silver_structured_templates \n",
    "  limit 10\n",
    "''').printSchema()\n",
    "\n"
   ]
  },
  {
   "cell_type": "code",
   "execution_count": 45,
   "id": "noted-edinburgh",
   "metadata": {},
   "outputs": [
    {
     "name": "stdout",
     "output_type": "stream",
     "text": [
      "+------------------------------------------------------------+------------------------------------------------+\n",
      "|                                                   link_from|                                         link_to|\n",
      "+------------------------------------------------------------+------------------------------------------------+\n",
      "|                                   Category:Monza Rally Show|            Category:Rally competitions in Italy|\n",
      "|                                   Category:Monza Rally Show|       Category:World Rally Championship rallies|\n",
      "|                   Category:Categories by city in Kyrgyzstan|         Category:Categories by country and city|\n",
      "|     Category:World War II resistance members by nationality|        Category:World War II resistance members|\n",
      "|     Category:World War II resistance members by nationality|      Category:Resistance members by nationality|\n",
      "|Category:Ambassadors of the State of Palestine to Costa Rica|  Category:Ambassadors of the State of Palestine|\n",
      "|Category:Ambassadors of the State of Palestine to Costa Rica|              Category:Ambassadors to Costa Rica|\n",
      "|Category:Ambassadors of the State of Palestine to Costa Rica|Category:Costa Rica–State of Palestine relations|\n",
      "|Category:Ambassadors of the State of Palestine to Costa Rica|  Category:Palestinian expatriates in Costa Rica|\n",
      "|             Category:Javelin throwers from Northern Ireland|                       Category:Javelin throwers|\n",
      "+------------------------------------------------------------+------------------------------------------------+\n",
      "only showing top 10 rows\n",
      "\n"
     ]
    }
   ],
   "source": [
    "df = spark.sql('''\n",
    "  select \n",
    "    title    as link_from,\n",
    "    wl.title as link_to\n",
    "  from wikipedia_silver_structured_templates \n",
    "  lateral view explode(wikilinks) as wl\n",
    "  where title like 'Category:%'\n",
    "''')\n",
    "df.createOrReplaceTempView('links')\n",
    "df.show(10,100)\n"
   ]
  },
  {
   "cell_type": "code",
   "execution_count": 42,
   "id": "looking-parker",
   "metadata": {},
   "outputs": [
    {
     "name": "stdout",
     "output_type": "stream",
     "text": [
      "found 4803875 links between categories in 32.94304472103249 seconds\n"
     ]
    }
   ],
   "source": [
    "t0 = time.perf_counter()\n",
    "count = df.count()\n",
    "print(f'found {count} links between categories in {time.perf_counter() - t0} seconds')"
   ]
  },
  {
   "cell_type": "code",
   "execution_count": 51,
   "id": "handmade-nitrogen",
   "metadata": {},
   "outputs": [
    {
     "ename": "AnalysisException",
     "evalue": "Table default.tmp_wiki_incoming_links already exists",
     "output_type": "error",
     "traceback": [
      "\u001b[0;31m---------------------------------------------------------------------------\u001b[0m",
      "\u001b[0;31mAnalysisException\u001b[0m                         Traceback (most recent call last)",
      "\u001b[0;32m<ipython-input-51-e6c84b1c34ba>\u001b[0m in \u001b[0;36m<module>\u001b[0;34m\u001b[0m\n\u001b[1;32m      1\u001b[0m \u001b[0mt0\u001b[0m \u001b[0;34m=\u001b[0m \u001b[0mtime\u001b[0m\u001b[0;34m.\u001b[0m\u001b[0mperf_counter\u001b[0m\u001b[0;34m(\u001b[0m\u001b[0;34m)\u001b[0m\u001b[0;34m\u001b[0m\u001b[0;34m\u001b[0m\u001b[0m\n\u001b[1;32m      2\u001b[0m \u001b[0mdf\u001b[0m \u001b[0;34m=\u001b[0m \u001b[0mspark\u001b[0m\u001b[0;34m.\u001b[0m\u001b[0msql\u001b[0m\u001b[0;34m(\u001b[0m\u001b[0;34m\"select link_to as title, collect_list(link_from) as incoming_links from links group by link_to\"\u001b[0m\u001b[0;34m)\u001b[0m\u001b[0;34m\u001b[0m\u001b[0;34m\u001b[0m\u001b[0m\n\u001b[0;32m----> 3\u001b[0;31m \u001b[0mdf\u001b[0m\u001b[0;34m.\u001b[0m\u001b[0mwrite\u001b[0m\u001b[0;34m.\u001b[0m\u001b[0mformat\u001b[0m\u001b[0;34m(\u001b[0m\u001b[0;34m\"delta\"\u001b[0m\u001b[0;34m)\u001b[0m\u001b[0;34m.\u001b[0m\u001b[0msaveAsTable\u001b[0m\u001b[0;34m(\u001b[0m\u001b[0;34m\"tmp_wiki_incoming_links\"\u001b[0m\u001b[0;34m)\u001b[0m\u001b[0;34m\u001b[0m\u001b[0;34m\u001b[0m\u001b[0m\n\u001b[0m\u001b[1;32m      4\u001b[0m \u001b[0mprint\u001b[0m\u001b[0;34m(\u001b[0m\u001b[0;34mf\"saved incoming link table in {time.perf_counter() - t0} seconds\"\u001b[0m\u001b[0;34m)\u001b[0m\u001b[0;34m\u001b[0m\u001b[0;34m\u001b[0m\u001b[0m\n",
      "\u001b[0;32m/usr/local/spark/python/pyspark/sql/readwriter.py\u001b[0m in \u001b[0;36msaveAsTable\u001b[0;34m(self, name, format, mode, partitionBy, **options)\u001b[0m\n\u001b[1;32m   1156\u001b[0m         \u001b[0;32mif\u001b[0m \u001b[0mformat\u001b[0m \u001b[0;32mis\u001b[0m \u001b[0;32mnot\u001b[0m \u001b[0;32mNone\u001b[0m\u001b[0;34m:\u001b[0m\u001b[0;34m\u001b[0m\u001b[0;34m\u001b[0m\u001b[0m\n\u001b[1;32m   1157\u001b[0m             \u001b[0mself\u001b[0m\u001b[0;34m.\u001b[0m\u001b[0mformat\u001b[0m\u001b[0;34m(\u001b[0m\u001b[0mformat\u001b[0m\u001b[0;34m)\u001b[0m\u001b[0;34m\u001b[0m\u001b[0;34m\u001b[0m\u001b[0m\n\u001b[0;32m-> 1158\u001b[0;31m         \u001b[0mself\u001b[0m\u001b[0;34m.\u001b[0m\u001b[0m_jwrite\u001b[0m\u001b[0;34m.\u001b[0m\u001b[0msaveAsTable\u001b[0m\u001b[0;34m(\u001b[0m\u001b[0mname\u001b[0m\u001b[0;34m)\u001b[0m\u001b[0;34m\u001b[0m\u001b[0;34m\u001b[0m\u001b[0m\n\u001b[0m\u001b[1;32m   1159\u001b[0m \u001b[0;34m\u001b[0m\u001b[0m\n\u001b[1;32m   1160\u001b[0m     def json(self, path, mode=None, compression=None, dateFormat=None, timestampFormat=None,\n",
      "\u001b[0;32m/usr/local/spark/python/lib/py4j-0.10.9-src.zip/py4j/java_gateway.py\u001b[0m in \u001b[0;36m__call__\u001b[0;34m(self, *args)\u001b[0m\n\u001b[1;32m   1302\u001b[0m \u001b[0;34m\u001b[0m\u001b[0m\n\u001b[1;32m   1303\u001b[0m         \u001b[0manswer\u001b[0m \u001b[0;34m=\u001b[0m \u001b[0mself\u001b[0m\u001b[0;34m.\u001b[0m\u001b[0mgateway_client\u001b[0m\u001b[0;34m.\u001b[0m\u001b[0msend_command\u001b[0m\u001b[0;34m(\u001b[0m\u001b[0mcommand\u001b[0m\u001b[0;34m)\u001b[0m\u001b[0;34m\u001b[0m\u001b[0;34m\u001b[0m\u001b[0m\n\u001b[0;32m-> 1304\u001b[0;31m         return_value = get_return_value(\n\u001b[0m\u001b[1;32m   1305\u001b[0m             answer, self.gateway_client, self.target_id, self.name)\n\u001b[1;32m   1306\u001b[0m \u001b[0;34m\u001b[0m\u001b[0m\n",
      "\u001b[0;32m/usr/local/spark/python/pyspark/sql/utils.py\u001b[0m in \u001b[0;36mdeco\u001b[0;34m(*a, **kw)\u001b[0m\n\u001b[1;32m    115\u001b[0m                 \u001b[0;31m# Hide where the exception came from that shows a non-Pythonic\u001b[0m\u001b[0;34m\u001b[0m\u001b[0;34m\u001b[0m\u001b[0;34m\u001b[0m\u001b[0m\n\u001b[1;32m    116\u001b[0m                 \u001b[0;31m# JVM exception message.\u001b[0m\u001b[0;34m\u001b[0m\u001b[0;34m\u001b[0m\u001b[0;34m\u001b[0m\u001b[0m\n\u001b[0;32m--> 117\u001b[0;31m                 \u001b[0;32mraise\u001b[0m \u001b[0mconverted\u001b[0m \u001b[0;32mfrom\u001b[0m \u001b[0;32mNone\u001b[0m\u001b[0;34m\u001b[0m\u001b[0;34m\u001b[0m\u001b[0m\n\u001b[0m\u001b[1;32m    118\u001b[0m             \u001b[0;32melse\u001b[0m\u001b[0;34m:\u001b[0m\u001b[0;34m\u001b[0m\u001b[0;34m\u001b[0m\u001b[0m\n\u001b[1;32m    119\u001b[0m                 \u001b[0;32mraise\u001b[0m\u001b[0;34m\u001b[0m\u001b[0;34m\u001b[0m\u001b[0m\n",
      "\u001b[0;31mAnalysisException\u001b[0m: Table default.tmp_wiki_incoming_links already exists"
     ]
    }
   ],
   "source": [
    "t0 = time.perf_counter()\n",
    "df = spark.sql(\"select link_to as title, collect_list(link_from) as incoming_links from links group by link_to\")\n",
    "df.write.format(\"delta\").saveAsTable(\"tmp_wiki_incoming_links\")\n",
    "print(f\"saved incoming link table in {time.perf_counter() - t0} seconds\")\n"
   ]
  },
  {
   "cell_type": "code",
   "execution_count": 55,
   "id": "metropolitan-stanley",
   "metadata": {},
   "outputs": [
    {
     "name": "stdout",
     "output_type": "stream",
     "text": [
      "+----------------------------------------+--------------------+----------------------------------------+\n",
      "|                                   title|size(incoming_links)|                          incoming_links|\n",
      "+----------------------------------------+--------------------+----------------------------------------+\n",
      "|                          {{Title year}}|               11118|[Category:2021 in Philadelphia, Categ...|\n",
      "|                           Help:Category|                8504|[Category:2009 protests, Category:194...|\n",
      "|            Category:Songs by songwriter|                8088|[Category:Songs written by Phil Wickh...|\n",
      "|              Category:Films by director|                8022|[Category:Films directed by Paul Terr...|\n",
      "|Category:Minor league baseball player...|                4263|[Category:Moline A's players, Categor...|\n",
      "|      Category:Wikipedia 1.0 assessments|                4192|[Category:Extinction articles by qual...|\n",
      "|                      Wikipedia:Category|                3766|[Category:Chartjackers, Category:Germ...|\n",
      "|Category:Companies established in {{t...|                3639|[Category:Slovenian companies establi...|\n",
      "|                 Category:Taxa by author|                3611|[Category:Taxa named by William Garet...|\n",
      "|                           United States|                3579|[Category:North Carolina populated pl...|\n",
      "|              Category:Musicians by band|                3415|[Category:The Ivy League (band) membe...|\n",
      "|             Category:Albums by producer|                2841|[Category:Albums produced by Dawaun P...|\n",
      "| List of adjectival forms of place names|                2782|[Category:Barbados political party sh...|\n",
      "|    Category:Films by American directors|                2766|[Category:Films directed by Joaquim D...|\n",
      "|                          Category:Years|                2754|[Category:501 BC, Category:695 BC, Ca...|\n",
      "|Category:Wikipedia categories named a...|                2661|[Category:LSU–Alexandria Generals bas...|\n",
      "|                                 England|                2590|[Category:Kerrier geography stubs, Ca...|\n",
      "|                             User:Polbot|                2566|[Category:Mesua, Category:Asterogyne,...|\n",
      "|       Category:{{Title year}} in sports|                2311|[Category:2021 in netball, Category:2...|\n",
      "|                              U.S. state|                2230|[Category:Summer camps in West Virgin...|\n",
      "|                              basketball|                2029|[Category:BC Ural Yekaterinburg playe...|\n",
      "|                                baseball|                1909|[Category:Jackson State Generals base...|\n",
      "|                          United Kingdom|                1903|[Category:Polish-Jewish culture in th...|\n",
      "| Category:Footballers in England by club|                1770|[Category:White Ensign F.C. players, ...|\n",
      "|                Category:Songs by artist|                1768|[Category:Morgan Wallen songs, Catego...|\n",
      "|                                   novel|                1674|[Category:1951 science fiction novels...|\n",
      "|                                   India|                1656|[Category:Villages in Mulshi taluka, ...|\n",
      "|Category:Wikipedia categories named a...|                1643|[Category:Carson–Newman University, C...|\n",
      "|                       American football|                1636|[Category:American football running b...|\n",
      "|                         Wikipedia:Lists|                1548|[Category:Lists of organisations base...|\n",
      "|     Category:Wikipedians by WikiProject|                1495|[Category:WikiProject United States p...|\n",
      "|          Category:{{Title year}} novels|                1477|[Category:1979 speculative fiction no...|\n",
      "|                                Scotland|                1367|[Category:Aberdeen templates, Categor...|\n",
      "|                    association football|                1364|[Category:FC Zvezda Perm players, Cat...|\n",
      "|Category:{{title year}} events in {{t...|                1358|[Category:December 2020 events in Ger...|\n",
      "|               Category:B-Class articles|                1344|[Category:B-Class Bibliographies arti...|\n",
      "|Category:{{title monthname}} {{title ...|                1338|[Category:September 2021 events in It...|\n",
      "|              Category:FA-Class articles|                1329|[Category:FA-Class Washington Footbal...|\n",
      "|              Category:GA-Class articles|                1325|[Category:GA-Class Serial killer-rela...|\n",
      "|           Category:Start-Class articles|                1317|[Category:Start-Class Linkin Park art...|\n",
      "|            Category:Stub-Class articles|                1309|[Category:Stub-Class Hinduism article...|\n",
      "|Category:People by city or town in En...|                1299|[Category:People from Higham, Babergh...|\n",
      "|            Category:List-Class articles|                1299|[Category:List-Class Nursing articles...|\n",
      "|                       football (soccer)|                1295|[Category:L.D.U. Loja footballers, Ca...|\n",
      "|                                  Canada|                1293|[Category:Confederation Line stations...|\n",
      "|               Category:A-Class articles|                1285|[Category:A-Class British currency ar...|\n",
      "|Category:College sports teams in the ...|                1239|[Category:Florida Tech Panthers, Cate...|\n",
      "|                               Australia|                1236|[Category:Films set in Sydney, Catego...|\n",
      "|                              WP:SORTKEY|                1226|[Category:Terentia asteroids, Categor...|\n",
      "|              Category:FL-Class articles|                1196|[Category:FL-Class Maps articles, Cat...|\n",
      "|               Category:C-Class articles|                1189|[Category:C-Class Western Governors U...|\n",
      "|        Category:Top-importance articles|                1189|[Category:Top-importance Nursing arti...|\n",
      "|        Category:Artists by record label|                1187|[Category:Igloo Records artists, Cate...|\n",
      "|        Category:Mid-importance articles|                1186|[Category:Mid-importance Indian cinem...|\n",
      "|    Category:Unknown-importance articles|                1176|[Category:Unknown-importance Universi...|\n",
      "|        {{Decade link|{{Title decade}}}}|                1165|[Category:1020s in Christianity, Cate...|\n",
      "|    Category:Song recordings by producer|                1164|[Category:Song recordings produced by...|\n",
      "|       Category:High-importance articles|                1164|[Category:High-importance India archi...|\n",
      "|            Category:Unassessed articles|                1160|[Category:Unassessed maritime warfare...|\n",
      "|                                   Japan|                1159|[Category:Child sexual abuse in Japan...|\n",
      "|        Category:Low-importance articles|                1159|[Category:Low-importance Palau articl...|\n",
      "|Category:{{Title year}} in winter sports|                1125|[Category:1961 in alpine skiing, Cate...|\n",
      "|Category:Jazz albums by American artists|                1119|[Category:Buck Hill (musician) albums...|\n",
      "|Category:Wikipedia categories named a...|                1117|[Category:Macclesfield, Category:Hals...|\n",
      "|Category:{{title monthname}} {{title ...|                1113|[Category:December 2020 events in Ger...|\n",
      "|                              California|                1052|[Category:Populated places in the Sie...|\n",
      "|Category:{{title monthname}} {{title ...|                1049|[Category:February 2021 sports events...|\n",
      "|Category:Hip hop albums by American a...|                1045|[Category:Major Figgas albums, Catego...|\n",
      "|Category:Indie rock albums by America...|                1023|[Category:Soccer Mommy albums, Catego...|\n",
      "|Category:Wikipedia categories named a...|                1019|[Category:Grand Cayman, Category:Spit...|\n",
      "|                                 Germany|                 999|[Category:Shooting sports in East Ger...|\n",
      "|Category:College men's basketball tea...|                 997|[Category:Claremont-Mudd-Scripps Stag...|\n",
      "|Category:Wikipedia categories named a...|                 995|[Category:Namegawa, Saitama, Category...|\n",
      "|   Category:People by district in Russia|                 991|[Category:People from Kalmansky Distr...|\n",
      "|       Category:Compositions by composer|                 985|[Category:Compositions by Jörg Widman...|\n",
      "|Category:College basketball teams in ...|                 977|[Category:Coastal Carolina Chanticlee...|\n",
      "|        Category:Film scores by composer|                 975|[Category:Films scored by Lee Zahler,...|\n",
      "|Wikipedia:Version 1.0 Editorial Team/...|                 973|[Category:Linkin Park articles by qua...|\n",
      "|Category:College football coaches in ...|                 963|[Category:Stonehill Skyhawks football...|\n",
      "|Category:Buildings and structures in ...|                 950|[Category:Buildings and structures in...|\n",
      "|                                   Italy|                 948|[Category:Italian classical philologi...|\n",
      "|Category:{{Title year}} in the United...|                 941|[Category:1923 in New York City, Cate...|\n",
      "|       Category:{{Title year}} in tennis|                 934|[Category:2012 Fed Cup, Category:1968...|\n",
      "|                            Christianity|                 912|[Category:1020s in Christianity, Cate...|\n",
      "|                                 company|                 908|[Category:Electronics companies dises...|\n",
      "|                                  tennis|                 896|[Category:2012 Fed Cup, Category:2020...|\n",
      "|                                  France|                 894|[Category:Online music stores of Fran...|\n",
      "|          Category:Live albums by artist|                 892|[Category:Foo Fighters live albums, C...|\n",
      "|Category:College men's basketball coa...|                 887|[Category:Jamestown Jimmies men's bas...|\n",
      "|Category:Album covers by recording ar...|                 879|[Category:Verka Serduchka album cover...|\n",
      "|         Category:{{Title year}} by city|                 871|[Category:2018 in Kabul, Category:201...|\n",
      "|Category:{{Title year}} in South Amer...|                 868|[Category:1922 South American Champio...|\n",
      "|                 Category:{{Title year}}|                 865|[Category:1917 controversies, Categor...|\n",
      "|Category:Dashboard.wikiedu.org course...|                 861|[Category:Dashboard.wikiedu.org cours...|\n",
      "|Category:College baseball players in ...|                 843|[Category:Georgia Southern Eagles bas...|\n",
      "|Category:College football players in ...|                 842|[Category:Wisconsin–Stout Blue Devils...|\n",
      "|   Category:American country music songs|                 838|[Category:Brett Young (singer) songs,...|\n",
      "|Category:College men's basketball pla...|                 836|[Category:Pomona-Pitzer Sagehens men'...|\n",
      "|Category:Films with screenplays by Am...|                 829|[Category:Films with screenplays by B...|\n",
      "|      Category:American novels by writer|                 829|[Category:Novels by James Leo Herlihy...|\n",
      "+----------------------------------------+--------------------+----------------------------------------+\n",
      "only showing top 100 rows\n",
      "\n"
     ]
    }
   ],
   "source": [
    "spark.sql('select title,size(incoming_links),incoming_links from tmp_wiki_incoming_links order by size(incoming_links) desc').show(100,40)"
   ]
  }
 ],
 "metadata": {
  "kernelspec": {
   "display_name": "Python 3",
   "language": "python",
   "name": "python3"
  },
  "language_info": {
   "codemirror_mode": {
    "name": "ipython",
    "version": 3
   },
   "file_extension": ".py",
   "mimetype": "text/x-python",
   "name": "python",
   "nbconvert_exporter": "python",
   "pygments_lexer": "ipython3",
   "version": "3.8.8"
  }
 },
 "nbformat": 4,
 "nbformat_minor": 5
}
