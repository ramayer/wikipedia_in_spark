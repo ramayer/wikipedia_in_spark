{
 "cells": [
  {
   "cell_type": "markdown",
   "id": "spread-haven",
   "metadata": {},
   "source": [
    "# Process Wikipedia in Spark\n",
    "\n",
    "## TL/DR:\n",
    "\n",
    "1. Start with a Wikipedia Dump parsed into spark dataframes from the other notebook.\n",
    "2. Analyze links."
   ]
  },
  {
   "cell_type": "markdown",
   "id": "color-settle",
   "metadata": {},
   "source": [
    "## Install dependencies\n",
    "\n",
    "This is using `%pip` rather than `pkg_rsources.resolve()` because on databricks clusters, `%pip` will make sure the libraries are available on the spark worker nodes."
   ]
  },
  {
   "cell_type": "code",
   "execution_count": 1,
   "id": "continuing-occupation",
   "metadata": {},
   "outputs": [],
   "source": [
    "required_packages = {\"mwparserfromhell\",\"geopandas\",\"h3\",\"geocoder\",\"pydeck\"}\n",
    "\n",
    "import pkg_resources\n",
    "for lib in required_packages - {pkg.key for pkg in pkg_resources.working_set}:\n",
    "    print(f\"installing {lib}\")\n",
    "    %pip install -q --upgrade pip\n",
    "    %pip install -q $lib\n",
    "    pkg_resources.require(lib)\n"
   ]
  },
  {
   "cell_type": "code",
   "execution_count": 2,
   "id": "significant-diagram",
   "metadata": {},
   "outputs": [],
   "source": [
    "import json\n",
    "import mwparserfromhell\n",
    "import subprocess\n",
    "import json\n",
    "import time"
   ]
  },
  {
   "cell_type": "markdown",
   "id": "manufactured-engagement",
   "metadata": {},
   "source": [
    "## Launch Spark (if running on a standalone environment)\n",
    "\n",
    "* On databricks clusters the Spark Context will already have existed."
   ]
  },
  {
   "cell_type": "code",
   "execution_count": 3,
   "id": "everyday-projection",
   "metadata": {},
   "outputs": [
    {
     "data": {
      "text/html": [
       "\n",
       "            <div>\n",
       "                <p><b>SparkSession - hive</b></p>\n",
       "                \n",
       "        <div>\n",
       "            <p><b>SparkContext</b></p>\n",
       "\n",
       "            <p><a href=\"http://08651cc65d10:4040\">Spark UI</a></p>\n",
       "\n",
       "            <dl>\n",
       "              <dt>Version</dt>\n",
       "                <dd><code>v3.1.1</code></dd>\n",
       "              <dt>Master</dt>\n",
       "                <dd><code>local[*]</code></dd>\n",
       "              <dt>AppName</dt>\n",
       "                <dd><code>MyApp</code></dd>\n",
       "            </dl>\n",
       "        </div>\n",
       "        \n",
       "            </div>\n",
       "        "
      ],
      "text/plain": [
       "<pyspark.sql.session.SparkSession at 0x7f6ddf4f5370>"
      ]
     },
     "execution_count": 3,
     "metadata": {},
     "output_type": "execute_result"
    }
   ],
   "source": [
    "if not \"spark\" in locals():\n",
    "    import pyspark\n",
    "    MAX_MEMORY = \"8g\"  # 24 gives OOM here. # 6 gives \"out of heap space\"\n",
    "    spark = (pyspark.sql.SparkSession.builder.appName(\"MyApp\") \n",
    "        .config(\"spark.jars.packages\", \"io.delta:delta-core_2.12:0.8.0\") \n",
    "        .config(\"spark.sql.extensions\", \"io.delta.sql.DeltaSparkSessionExtension\") \n",
    "        .config(\"spark.sql.catalog.spark_catalog\", \"org.apache.spark.sql.delta.catalog.DeltaCatalog\") \n",
    "        .config(\"spark.executor.memory\", MAX_MEMORY) \n",
    "        .config(\"spark.driver.memory\", MAX_MEMORY) \n",
    "        .config(\"spark.python.worker.reuse\",False)\n",
    "        .config(\"spark.task.maxFailures\",5)\n",
    "        .enableHiveSupport() \n",
    "        .getOrCreate()        \n",
    "        )\n",
    "spark"
   ]
  },
  {
   "cell_type": "code",
   "execution_count": 4,
   "id": "square-local",
   "metadata": {},
   "outputs": [
    {
     "name": "stdout",
     "output_type": "stream",
     "text": [
      "root\n",
      " |-- title: string (nullable = true)\n",
      " |-- body: string (nullable = true)\n",
      " |-- infoboxes: array (nullable = true)\n",
      " |    |-- element: struct (containsNull = true)\n",
      " |    |    |-- name: string (nullable = true)\n",
      " |    |    |-- params: map (nullable = true)\n",
      " |    |    |    |-- key: string\n",
      " |    |    |    |-- value: string (valueContainsNull = true)\n",
      " |    |    |-- body: string (nullable = true)\n",
      " |-- templates: array (nullable = true)\n",
      " |    |-- element: struct (containsNull = true)\n",
      " |    |    |-- name: string (nullable = true)\n",
      " |    |    |-- params: map (nullable = true)\n",
      " |    |    |    |-- key: string\n",
      " |    |    |    |-- value: string (valueContainsNull = true)\n",
      " |    |    |-- body: string (nullable = true)\n",
      " |-- extlinks: array (nullable = true)\n",
      " |    |-- element: struct (containsNull = true)\n",
      " |    |    |-- title: string (nullable = true)\n",
      " |    |    |-- url: string (nullable = true)\n",
      " |-- wikilinks: array (nullable = true)\n",
      " |    |-- element: struct (containsNull = true)\n",
      " |    |    |-- text: string (nullable = true)\n",
      " |    |    |-- title: string (nullable = true)\n",
      " |-- coords: array (nullable = true)\n",
      " |    |-- element: struct (containsNull = true)\n",
      " |    |    |-- lat: float (nullable = true)\n",
      " |    |    |-- lon: float (nullable = true)\n",
      " |    |    |-- h3: array (nullable = true)\n",
      " |    |    |    |-- element: string (containsNull = true)\n",
      " |-- _error_: string (nullable = true)\n",
      "\n"
     ]
    }
   ],
   "source": [
    "spark.sql('''\n",
    "  select *\n",
    "  from wikipedia_silver_structured_templates \n",
    "  limit 10\n",
    "''').printSchema()"
   ]
  },
  {
   "cell_type": "code",
   "execution_count": 6,
   "id": "subsequent-blind",
   "metadata": {},
   "outputs": [],
   "source": [
    "test_timing = False\n",
    "if test_timing:\n",
    "    t0 = time.perf_counter()\n",
    "    spark.sql('''\n",
    "      DROP TABLE IF EXISTS wikipedia_links\n",
    "      ''')\n",
    "    spark.sql('''\n",
    "      CREATE TABLE IF NOT EXISTS wikipedia_links AS\n",
    "      SELECT DISTINCT\n",
    "        title    as src,\n",
    "        wl.title as dst\n",
    "      FROM wikipedia_silver_structured_templates \n",
    "      LATERAL VIEW explode(wikilinks) AS wl\n",
    "    ''')\n",
    "    print(f\"created flattened wikipedia_links table in {time.perf_counter() - t0}\")"
   ]
  },
  {
   "cell_type": "code",
   "execution_count": null,
   "id": "governmental-anniversary",
   "metadata": {},
   "outputs": [],
   "source": [
    "spark.sql(\"drop table if exists tmp_test_join\")\n",
    "spark.sql(\"create table if not exists tmp_test_join (a string, b string)\")\n",
    "spark.sql(\"insert into tmp_test_join values ('a','b'),('b','c')\")\n",
    "spark.sql(\"\"\"\n",
    "    WITH incoming as (SELECT a as title, collect_list(b) as incoming_links FROM tmp_test_join group by a),\n",
    "         outgoing as (SELECT b as title, collect_list(a) as outgoing_links FROM tmp_test_join group by b)\n",
    "    SELECT title,incoming_links,outgoing_links FROM incoming FULL OUTER JOIN outgoing using (title)\n",
    "          \"\"\").show()"
   ]
  },
  {
   "cell_type": "code",
   "execution_count": 7,
   "id": "unlimited-logic",
   "metadata": {},
   "outputs": [
    {
     "name": "stdout",
     "output_type": "stream",
     "text": [
      "created flattened wikipedia_links table in 0.0640717709902674\n"
     ]
    }
   ],
   "source": [
    "t0 = time.perf_counter()\n",
    "spark.sql(\"\"\"\n",
    "    CREATE TABLE IF NOT EXISTS denormalized_wikipedia_links AS\n",
    "    WITH incoming as (SELECT dst as title, collect_list(src) as incoming_links FROM wikipedia_links group by dst),\n",
    "         outgoing as (SELECT src as title, collect_list(dst) as outgoing_links FROM wikipedia_links group by src)\n",
    "    SELECT title,incoming_links,outgoing_links FROM incoming FULL OUTER JOIN outgoing using (title)\n",
    "\"\"\")\n",
    "print(f\"created flattened wikipedia_links table in {time.perf_counter() - t0}\")"
   ]
  },
  {
   "cell_type": "code",
   "execution_count": 8,
   "id": "colonial-arthur",
   "metadata": {},
   "outputs": [
    {
     "name": "stdout",
     "output_type": "stream",
     "text": [
      "found [Row(count(1)=313514602, count(DISTINCT src, dst)=313500372)] in 133.93299864395522 seconds\n"
     ]
    }
   ],
   "source": [
    "t0 = time.perf_counter()\n",
    "df = spark.sql(\"\"\"\n",
    "  select count(*),count(distinct *) from wikipedia_links\n",
    "\"\"\")\n",
    "print(f'found {df.take(1)} in {time.perf_counter()-t0} seconds')"
   ]
  },
  {
   "cell_type": "code",
   "execution_count": 9,
   "id": "spectacular-borough",
   "metadata": {},
   "outputs": [
    {
     "name": "stdout",
     "output_type": "stream",
     "text": [
      "found 676 in 30.05684120999649 seconds\n"
     ]
    }
   ],
   "source": [
    "t0 = time.perf_counter()\n",
    "df = spark.sql(\"\"\"\n",
    "    select * from wikipedia_links where src = 'Doge of Venice' or dst = 'Doge of Venice'\n",
    "    \"\"\")\n",
    "results = df.collect()\n",
    "print(f'found {len(results)} in {time.perf_counter()-t0} seconds')"
   ]
  },
  {
   "cell_type": "code",
   "execution_count": 10,
   "id": "regulation-curtis",
   "metadata": {},
   "outputs": [
    {
     "name": "stdout",
     "output_type": "stream",
     "text": [
      "found 1 in 35.227666849968955 seconds\n"
     ]
    }
   ],
   "source": [
    "t0 = time.perf_counter()\n",
    "df = spark.sql(\"\"\"\n",
    "    select * from denormalized_wikipedia_links where title = 'Doge of Venice'\n",
    "    \"\"\")\n",
    "results = df.collect()\n",
    "print(f'found {len(results)} in {time.perf_counter()-t0} seconds')"
   ]
  },
  {
   "cell_type": "code",
   "execution_count": 11,
   "id": "proof-market",
   "metadata": {},
   "outputs": [],
   "source": [
    "# spark.sql(\"\"\"optimze denormalized_wikipedia_links zorder by (title)\"\"\")"
   ]
  },
  {
   "cell_type": "code",
   "execution_count": 7,
   "id": "emotional-welding",
   "metadata": {},
   "outputs": [
    {
     "name": "stdout",
     "output_type": "stream",
     "text": [
      "[\n",
      " {\n",
      "  \"title\": \"Mount Emei\",\n",
      "  \"incoming_links\": [\n",
      "   \"World Heritage site No. 779\",\n",
      "   \"Omei\",\n",
      "   \"Index of Buddhism-related articles\",\n",
      "   \"Mario Biondi (writer)\",\n",
      "   \"Megophrys wawuensis\",\n",
      "   \"COVID-19 pandemic in Sichuan\",\n",
      "   \"Template:Sichuan topics\",\n",
      "   \"O-mei Shan\",\n",
      "   \"Leptobrachella oshanensis\",\n",
      "   \"Nga My\",\n",
      "   \"Mt. Emei\",\n",
      "   \"Nan Huai-Chin\",\n",
      "   \"Mount Omei\",\n",
      "   \"AAAAA Tourist Attractions of China\",\n",
      "   \"Chu-Yuan Lee\",\n",
      "   \"Zhoushan\",\n",
      "   \"Wikipedia:WikiProject Volcanoes/Assessment/Log April 2007\",\n",
      "   \"List of tourist attractions in China\",\n",
      "   \"Scutiger chintingensis\",\n",
      "   \"Omei Shan\",\n",
      "   \"The Legend of Zu\",\n",
      "   \"Emeishan Traps\",\n",
      "   \"Jiang Wei\",\n",
      "   \"Emei Shan Protected Scenic Site\",\n",
      "   \"Template:Chinese Buddhism\",\n",
      "   \"Wikipedia:Files for deletion/2011 October 10\",\n",
      "   \"EM Legend\",\n",
      "   \"Rana omeimontis\",\n",
      "   \"Scutiger (frog)\",\n",
      "   \"Inoculation\",\n",
      "   \"Transcendental whistling\",\n",
      "   \"List of mountains in China\",\n",
      "   \"Longdong stream salamander\",\n",
      "   \"Hongchunping Temple\",\n",
      "   \"Daxiangling\",\n",
      "   \"Emeiquan\",\n",
      "   \"Mt. Omei\",\n",
      "   \"Wildlife of China\",\n",
      "   \"Legend of the White Snake\",\n",
      "   \"Liu Guangdi\",\n",
      "   \"Leshan\",\n",
      "   \"Komainu\",\n",
      "   \"Wikipedia:Vital articles/Level/5/Geography/Physical\",\n",
      "   \"Pratt's vole\",\n",
      "   \"Legends of the Dark King\",\n",
      "   \"Zuo Si\",\n",
      "   \"Omeisaurus\",\n",
      "   \"Nematocentropus omeiensis\",\n",
      "   \"Dadu River\",\n",
      "   \"Emeici\",\n",
      "   \"Dimash Kudaibergen\",\n",
      "   \"Fan Chengda\",\n",
      "   \"Styles of Chinese martial arts\",\n",
      "   \"Wikipedia:WikiProject Buddhism/Articles\",\n",
      "   \"Jade Buddha Temple\",\n",
      "   \"Emei\",\n",
      "   \"Wannian Temple (Mount Emei)\",\n",
      "   \"List of The Heaven Sword and Dragon Saber characters\",\n",
      "   \"Rhododendron hemsleyanum\",\n",
      "   \"Baoguo Temple (Mount Emei)\",\n",
      "   \"Mausoleum of Genghis Khan\",\n",
      "   \"Oreolalax major\",\n",
      "   \"Jinding\",\n",
      "   \"List of Major National Historical and Cultural Sites in Sichuan\",\n",
      "   \"Omei horned toad\",\n",
      "   \"National Key Buddhist Temples in Han Chinese Area\",\n",
      "   \"Oreolalax omeimontis\",\n",
      "   \"Mount Emei (Sichuan province, China)\",\n",
      "   \"Bao Jing\",\n",
      "   \"List of An Idiot Abroad episodes\",\n",
      "   \"Wikipedia:Vital articles/List of all articles\",\n",
      "   \"Portal:China/Selected picture/18\",\n",
      "   \"Wikipedia:WikiProject Volcanoes/Assessment/Log March 2010\",\n",
      "   \"Megophrys binlingensis\",\n",
      "   \"Xixiang Chi\",\n",
      "   \"Church of the East in China\",\n",
      "   \"S Club 7 Go Wild!\",\n",
      "   \"Baishe Niangniang\",\n",
      "   \"E-Mei Shan\",\n",
      "   \"Pheretima praepinguis\",\n",
      "   \"Su Shi\",\n",
      "   \"COVID-19 pandemic in mainland China\",\n",
      "   \"Emei, Mount\",\n",
      "   \"List of World Heritage Sites in China\",\n",
      "   \"Mt Emei\",\n",
      "   \"Mount Putuo\",\n",
      "   \"Samantabhadra\",\n",
      "   \"Religion in China\",\n",
      "   \"Zuo Ci\",\n",
      "   \"Template:Sacred Mountains of China\",\n",
      "   \"Sichuan Basin evergreen broadleaf forests\",\n",
      "   \"Emeishan City\",\n",
      "   \"Leshan Giant Buddha\",\n",
      "   \"Tourism in China\",\n",
      "   \"Leptobrachium boringii\",\n",
      "   \"Bodhisattva\",\n",
      "   \"Bodhima\\u1e47\\u1e0da\",\n",
      "   \"Patrick Richardson\",\n",
      "   \"Southwest Jiaotong University\",\n",
      "   \"Emeishan\",\n",
      "   \"Oreolalax multipunctatus\",\n",
      "   \"Solar eclipse of July 22, 2009\",\n",
      "   \"Template:World Heritage Sites in China\",\n",
      "   \"Xuyun\",\n",
      "   \"San Huang Pao Chui\",\n",
      "   \"Bak Mei\",\n",
      "   \"Tibetan macaque\",\n",
      "   \"Mount O-mei\",\n",
      "   \"Xue Susu\",\n",
      "   \"Glory (optical phenomenon)\",\n",
      "   \"List of Buddhist architecture in China\",\n",
      "   \"List of tallest statues\",\n",
      "   \"List of World Heritage Sites by year of inscription\",\n",
      "   \"Zhangixalus omeimontis\",\n",
      "   \"Streptomyces emeiensis\",\n",
      "   \"Wikipedia:WikiProject Volcanoes/Assessment/Log May 2007\",\n",
      "   \"Emei Mountain\",\n",
      "   \"Ng Mui\",\n",
      "   \"Cycas szechuanensis\",\n",
      "   \"Emei Shan\",\n",
      "   \"Template:National parks of China\",\n",
      "   \"Template:National Key Buddhist Temples in Han Chinese Area\",\n",
      "   \"Mt Omei\",\n",
      "   \"Xu Xian\",\n",
      "   \"\\u5ce8\\u7709\\u5c71\",\n",
      "   \"Sichuan\",\n",
      "   \"Streptomyces geranii\",\n",
      "   \"List of mountains by elevation\",\n",
      "   \"Template:Chinese martial arts\",\n",
      "   \"Mo (Chinese zoology)\",\n",
      "   \"Chevron-spotted brown frog\",\n",
      "   \"List of World Heritage Sites in Eastern Asia\",\n",
      "   \"E'mei Mountain\",\n",
      "   \"Samantabhadra Meditation Sutra\",\n",
      "   \"Zhou Yongkang\",\n",
      "   \"Emeishan National Park\",\n",
      "   \"Bashu culture\",\n",
      "   \"Daphne bholua\",\n",
      "   \"Wikipedia:WikiProject Buddhism/Popular pages\",\n",
      "   \"Pseudorana sangzhiensis\",\n",
      "   \"P\\u00e0o Chu\\u00ed\",\n",
      "   \"Martial Kingdoms\",\n",
      "   \"Ghostwritten (novel)\",\n",
      "   \"Emei Sect\",\n",
      "   \"Sichuan Basin\",\n",
      "   \"Emei music frog\"\n",
      "  ],\n",
      "  \"outgoing_links\": [\n",
      "   \"Sichuan Province\",\n",
      "   \"World Heritage Committee\",\n",
      "   \"China\",\n",
      "   \"K\\u00f6ppen climate classification\",\n",
      "   \"Leshan\",\n",
      "   \"mountain\",\n",
      "   \"endemism\",\n",
      "   \"Daxiangling\",\n",
      "   \"county-level city\",\n",
      "   \"Category:Mountains of Sichuan\",\n",
      "   \"Emeishan City\",\n",
      "   \"Gondola lift\",\n",
      "   \"Permian\",\n",
      "   \"List of World Heritage Sites in Asia and Australasia\",\n",
      "   \"Leshan Giant Buddha\",\n",
      "   \"Mandarin Chinese\",\n",
      "   \"Sichuan\",\n",
      "   \"Category:Tourist attractions in Sichuan\",\n",
      "   \"martial arts\",\n",
      "   \"Sacred Mountains of China\",\n",
      "   \"bodhima\\u1e47\\u1e0da\",\n",
      "   \"Sichuan Basin\",\n",
      "   \"World Heritage Site\",\n",
      "   \"monsoon\",\n",
      "   \"subarctic climate\",\n",
      "   \"Category:Sacred Mountains of China\",\n",
      "   \"Qing dynasty\",\n",
      "   \"Category:Chinese Buddhist grottoes\",\n",
      "   \"Emei Sect\",\n",
      "   \"Macaque\",\n",
      "   \"Buddhism\",\n",
      "   \"Category:Religion in Sichuan\",\n",
      "   \"Zuo Ci\",\n",
      "   \"Category:Buddhist sites in China\",\n",
      "   \"UNESCO\",\n",
      "   \"Tibetan macaque\",\n",
      "   \"Golden Summit\",\n",
      "   \"Rana adenopleura\",\n",
      "   \"Vibrissaphora liui\",\n",
      "   \"Postal romanization\",\n",
      "   \"Category:Major National Historical and Cultural Sites in Sichuan\",\n",
      "   \"White Dragon River\",\n",
      "   \"Sacred Mountains of China#The Four Sacred Mountains of Buddhism\",\n",
      "   \"Ming dynasty\",\n",
      "   \"bodhisattva\",\n",
      "   \"Category:National parks of China\",\n",
      "   \"prefecture-level city\",\n",
      "   \"Category:Chinese architectural history\",\n",
      "   \"Pheretima praepinguis\",\n",
      "   \"Jinding\",\n",
      "   \"large igneous province\",\n",
      "   \"Samantabhadra\",\n",
      "   \"Category:World Heritage Sites in China\",\n",
      "   \"Emeishan Traps\"\n",
      "  ]\n",
      " }\n",
      "]\n"
     ]
    }
   ],
   "source": [
    "def get_links(titles,max_links=200):\n",
    "    escaped_titles = [title.replace(\"'\",\"''\") for title in titles]\n",
    "    in_clause = \",\".join([f\"'{et}'\" for et in escaped_titles])\n",
    "    links = spark.sql(f\"\"\"select * from denormalized_wikipedia_links where title in ({in_clause}) and size(outgoing_links)<{max_links}\"\"\").collect()\n",
    "    return [l.asDict(True) for l in links]\n",
    "\n",
    "l1 = get_links(['Mount Emei'])\n",
    "print(json.dumps(l1,indent=1))"
   ]
  },
  {
   "cell_type": "code",
   "execution_count": 22,
   "id": "confused-basis",
   "metadata": {},
   "outputs": [
    {
     "name": "stdout",
     "output_type": "stream",
     "text": [
      "+--------------------+---------------+\n",
      "|               title|size(wikilinks)|\n",
      "+--------------------+---------------+\n",
      "|          Mount Emei|             56|\n",
      "|Wannian Temple (M...|             55|\n",
      "|Baoguo Temple (Mo...|             54|\n",
      "|      Emeishan Traps|             34|\n",
      "|               Emeis|             28|\n",
      "|   Emei leaf warbler|             28|\n",
      "|           Emei Sect|             25|\n",
      "|            Emeiquan|             23|\n",
      "|       Emei, Hsinchu|             21|\n",
      "|     Emei music frog|             21|\n",
      "|Emeigh, Pennsylvania|             21|\n",
      "|Template:Emei–Pan...|             21|\n",
      "| Cletus Komena Emein|             19|\n",
      "| Emei Shan liocichla|             19|\n",
      "|Emei railway station|             18|\n",
      "|       Emeishan City|             17|\n",
      "|Emeis Park and Go...|             12|\n",
      "|              Emeici|              8|\n",
      "|   Zhonghai Emeishan|              7|\n",
      "|             Emeidae|              3|\n",
      "+--------------------+---------------+\n",
      "only showing top 20 rows\n",
      "\n"
     ]
    }
   ],
   "source": [
    "spark.sql(\"\"\"select title,size(wikilinks) from wikipedia_silver_structured_templates where title like '%Emei%' order by size(wikilinks) desc\"\"\").show()"
   ]
  },
  {
   "cell_type": "code",
   "execution_count": 11,
   "id": "modular-mozambique",
   "metadata": {},
   "outputs": [],
   "source": [
    "import string\n",
    "\n",
    "def make_dot(nodes,edges):\n",
    "    tmpl = string.Template('''\n",
    "      digraph {\n",
    "        rankdir=LR;\n",
    "        graph [ranksep=0.25, overlap=prism, nodesep=0.25, splines=true];\n",
    "        node [style=\"filled\"; dir=\"none\"];\n",
    "        edge[arrowhead=\"none\"arrowtail=\"none\"];\n",
    "        $__nodes__\n",
    "        $__edges__\n",
    "      }\n",
    "    ''')\n",
    "    d = tmpl.safe_substitute({\n",
    "        '__nodes__':';\\n'.join(nodes),\n",
    "        '__edges__':';\\n'.join(edges)\n",
    "    })\n",
    "    return d\n",
    " "
   ]
  },
  {
   "cell_type": "code",
   "execution_count": 12,
   "id": "ordered-drive",
   "metadata": {},
   "outputs": [],
   "source": [
    "\n",
    "import html\n",
    "import IPython\n",
    "\n",
    "def make_dot_viewer(dots):\n",
    "    html_tmpl = string.Template(r\"\"\"\n",
    "    <!DOCTYPE html>\n",
    "    <meta charset=\"utf-8\">\n",
    "    <body>\n",
    "    <script src=\"https://d3js.org/d3.v5.min.js\"></script>\n",
    "    <script src=\"https://unpkg.com/@hpcc-js/wasm@0.3.11/dist/index.min.js\"></script>\n",
    "    <script src=\"https://unpkg.com/d3-graphviz@3.0.5/build/d3-graphviz.js\"></script>\n",
    "    <button id=\"reset_dot\">reset</button>\n",
    "    <button id=\"next_dot\">next</button>\n",
    "    <button id=\"resize_dot\">resize</button>\n",
    "\n",
    "    <div id=\"graph\" style=\"width: 95%; border: 1px solid red; text-align: center;\"></div>\n",
    "\n",
    "    <script>\n",
    "        var _gv = '';\n",
    "\n",
    "        function resize_dot(w,h) {\n",
    "            w = document.body.style.width;\n",
    "            h = document.body.style.height;\n",
    "            var svg = d3.select(\"#graph\").selectWithoutDataPropagation(\"svg\");\n",
    "            svg\n",
    "                .transition()\n",
    "                .duration(700)\n",
    "                .attr(\"width\", w)\n",
    "                .attr(\"height\", h);\n",
    "            var d = svg.datum();\n",
    "            d.attributes['width'] = w;\n",
    "            d.attributes['height'] = h;\n",
    "        };\n",
    "\n",
    "        function draw_graphs(dots) {\n",
    "            var dot_index = 0;\n",
    "            function render_next_dot() {\n",
    "                var dot = dots[dot_index];\n",
    "                gv.renderDot(dot).on(\"end\", function() {dot_index = (dot_index + 1) % dots.length})\n",
    "            }\n",
    "            function reset_dot() {\n",
    "                dot_index = 0;\n",
    "                var dot = dots[dot_index];\n",
    "                gv.renderDot(dot).on(\"end\", function() {dot_index = (dot_index + 1) % dots.length})\n",
    "                gv.resetZoom();\n",
    "            }\n",
    "            var engine = 'dot';\n",
    "            //var engine = 'neato';\n",
    "            var transition_fun = function(){\n",
    "                return d3.transition('dottrans')\n",
    "                         .delay(10)\n",
    "                         .duration(200)\n",
    "                         .ease(d3.easeLinear)\n",
    "            };\n",
    "            var gv = d3.select(\"#graph\").graphviz()\n",
    "                     .engine(engine)\n",
    "                     .height(600)\n",
    "                     .width(800)\n",
    "                     .fit(1)\n",
    "                     .zoomScaleExtent([0.01,100])\n",
    "                     .transition(transition_fun);\n",
    "            _gv = gv;\n",
    "            render_next_dot()\n",
    "            document.getElementById(\"next_dot\").addEventListener('click', render_next_dot, false);\n",
    "            document.getElementById(\"reset_dot\").addEventListener('click', reset_dot, false);\n",
    "            document.getElementById(\"resize_dot\").addEventListener('click', resize_dot, false);\n",
    "\n",
    "        }\n",
    "\n",
    "        function rand_int(max) {\n",
    "          return Math.floor(Math.random() * max);\n",
    "        }\n",
    "\n",
    "        draw_graphs($__dots__);\n",
    "    </script>\n",
    "    </body>\n",
    "    \"\"\")\n",
    "\n",
    "    h1 = html_tmpl.safe_substitute({'__dots__':json.dumps(dots)})\n",
    "    return(h1)\n",
    "\n",
    "dots = [\n",
    "     \"digraph {rankdir=LR;a->b}\",\n",
    "     \"digraph {rankdir=LR;a->b; b->c}\",\n",
    "     \"digraph {rankdir=LR;a->b; b->c; c->a}\",\n",
    "     \"digraph {rankdir=LR;a->b; b->c; a->c; a->b2}\",\n",
    "     \"digraph {rankdir=LR;a->b; b->c; c->a; a->b2; b2 -> c}\",    \n",
    "]\n",
    "h1 = make_dot_viewer(dots)\n",
    "h2 = f'<iframe style=\"width:98%; height:800px; border: 1px solid green;\" srcdoc=\"{html.escape(h1)}\">'\n",
    "#IPython.display.HTML(h2)\n"
   ]
  },
  {
   "cell_type": "code",
   "execution_count": 8,
   "id": "young-bibliography",
   "metadata": {},
   "outputs": [],
   "source": [
    "l1 = get_links(['Mount Emei'])\n"
   ]
  },
  {
   "cell_type": "code",
   "execution_count": 9,
   "id": "friendly-apparatus",
   "metadata": {},
   "outputs": [],
   "source": [
    "l2 = get_links(l1[0]['outgoing_links'],max_links=100)"
   ]
  },
  {
   "cell_type": "code",
   "execution_count": 13,
   "id": "painted-aruba",
   "metadata": {},
   "outputs": [],
   "source": [
    "nodes = []\n",
    "edges = []\n",
    "\n",
    "for row in l1:\n",
    "    src = row['title']\n",
    "    dsts = row['outgoing_links'] or []\n",
    "    new_edges  = [f'\"{src}\" -> \"{dst}\"' for dst in dsts]\n",
    "    edges.extend(new_edges)\n",
    "    \n",
    "for row in l2:\n",
    "    src = row['title']\n",
    "    dsts = row['outgoing_links'] or []\n",
    "    new_edges  = [f'\"{src}\" -> \"{dst}\"' for dst in dsts]\n",
    "    edges.extend(new_edges)\n",
    "\n",
    "dot = make_dot(nodes,edges[9:1000])\n",
    "\n",
    "#print(dot)\n",
    "dots = [dot]\n",
    "h1 = make_dot_viewer(dots)\n",
    "h2 = f'<iframe style=\"width:98%; height:800px; border: 1px solid green;\" srcdoc=\"{html.escape(h1)}\">'\n",
    "#IPython.display.HTML(h2)\n"
   ]
  },
  {
   "cell_type": "code",
   "execution_count": null,
   "id": "uniform-theology",
   "metadata": {},
   "outputs": [],
   "source": [
    "def get_links(title):\n",
    "    escaped_title = title.replace(\"'\",\"''\")\n",
    "    spark.sql(\"\"\"select * from denormalized_wikipedia_links where title = '{escaped_title}'\"\"\").collect()\n"
   ]
  },
  {
   "cell_type": "code",
   "execution_count": null,
   "id": "wrong-mercy",
   "metadata": {},
   "outputs": [],
   "source": [
    "df = spark.sql(\"\"\"\n",
    "    select * from wikipedia_links where dst = 'Doge of Venice'\n",
    "    \"\"\")\n",
    "df.show(10)"
   ]
  },
  {
   "cell_type": "code",
   "execution_count": null,
   "id": "particular-fleet",
   "metadata": {},
   "outputs": [],
   "source": [
    "spark.sql(\"\n",
    "    \")"
   ]
  },
  {
   "cell_type": "code",
   "execution_count": 7,
   "id": "random-hardwood",
   "metadata": {},
   "outputs": [
    {
     "name": "stdout",
     "output_type": "stream",
     "text": [
      "Table default.tmp_wiki_incoming_links already exists\n",
      "saved incoming link table in 0.12487451289780438 seconds\n"
     ]
    }
   ],
   "source": [
    "t0 = time.perf_counter()\n",
    "df = spark.sql(\"select link_to as title, collect_list(link_from) as incoming_links from links group by link_to\")\n",
    "try:\n",
    "    df.write.format(\"delta\").saveAsTable(\"tmp_wiki_incoming_links\")\n",
    "except Exception as e:\n",
    "    print(e)\n",
    "print(f\"saved incoming link table in {time.perf_counter() - t0} seconds\")\n"
   ]
  },
  {
   "cell_type": "code",
   "execution_count": 14,
   "id": "understanding-width",
   "metadata": {},
   "outputs": [
    {
     "name": "stdout",
     "output_type": "stream",
     "text": [
      "+---------------------------------------+--------------------+----------------------------------------+\n",
      "|                                  title|size(incoming_links)|                          incoming_links|\n",
      "+---------------------------------------+--------------------+----------------------------------------+\n",
      "|                          Help:Category|                8504|[Category:2009 protests, Category:194...|\n",
      "|                     Wikipedia:Category|                3766|[Category:Chartjackers, Category:Germ...|\n",
      "|                          United States|                3579|[Category:North Carolina populated pl...|\n",
      "|List of adjectival forms of place names|                2782|[Category:Barbados political party sh...|\n",
      "|                                England|                2590|[Category:Kerrier geography stubs, Ca...|\n",
      "|                            User:Polbot|                2566|[Category:Mesua, Category:Asterogyne,...|\n",
      "|                             U.S. state|                2230|[Category:Summer camps in West Virgin...|\n",
      "|                             basketball|                2029|[Category:BC Ural Yekaterinburg playe...|\n",
      "|                               baseball|                1909|[Category:Jackson State Generals base...|\n",
      "|                         United Kingdom|                1903|[Category:Polish-Jewish culture in th...|\n",
      "+---------------------------------------+--------------------+----------------------------------------+\n",
      "only showing top 10 rows\n",
      "\n"
     ]
    }
   ],
   "source": [
    "# Category and Help pages have absurdly large numbers of links.\n",
    "# Probably want to treat them separately.\n",
    "\n",
    "spark.sql(\"\"\"\n",
    "  select title,size(incoming_links),incoming_links\n",
    "   from tmp_wiki_incoming_links \n",
    "   where title not like '%{%' and title not like 'Category%'\n",
    "   order by size(incoming_links) desc\n",
    "\"\"\").show(10,40)"
   ]
  },
  {
   "cell_type": "code",
   "execution_count": 21,
   "id": "general-rhythm",
   "metadata": {},
   "outputs": [
    {
     "data": {
      "text/plain": [
       "[]"
      ]
     },
     "execution_count": 21,
     "metadata": {},
     "output_type": "execute_result"
    }
   ],
   "source": [
    "spark.sql(\"\"\"select * from tmp_wiki_incoming_links where title='Little Brown Bat'\"\"\").collect()"
   ]
  },
  {
   "cell_type": "code",
   "execution_count": 32,
   "id": "written-ribbon",
   "metadata": {},
   "outputs": [
    {
     "name": "stdout",
     "output_type": "stream",
     "text": [
      "+--------------+---------------------------+\n",
      "|         title|             incoming_links|\n",
      "+--------------+---------------------------+\n",
      "|Doge of Venice|[Category:Leonardo Loredan]|\n",
      "+--------------+---------------------------+\n",
      "\n"
     ]
    }
   ],
   "source": [
    "spark.sql(\"\"\"select * from tmp_wiki_incoming_links where title like 'Doge of Venice'\"\"\").show(100,100)"
   ]
  },
  {
   "cell_type": "code",
   "execution_count": 51,
   "id": "disciplinary-security",
   "metadata": {},
   "outputs": [
    {
     "name": "stdout",
     "output_type": "stream",
     "text": [
      "[\n",
      " [\n",
      "  \"Paolo Renier\",\n",
      "  [\n",
      "   \"Doge of Venice\",\n",
      "   \"Alvise Giovanni Mocenigo\",\n",
      "   \"Ludovico Manin\",\n",
      "   \"Venice\",\n",
      "   \"Republic of Venice\",\n",
      "   \"Margherita Delmaz\",\n",
      "   \"Venice\",\n",
      "   \"Doge of Venice\",\n",
      "   \"ambassador\",\n",
      "   \"Ottoman Empire\",\n",
      "   \"Habsburg Monarchy\",\n",
      "   \"Ludovico Manin\",\n",
      "   \"Margherita Delmaz\",\n",
      "   \"Lodovico Gallina\",\n",
      "   \"Sequin (coin)\",\n",
      "   \"Doge of Venice\",\n",
      "   \"Republic of Venice\",\n",
      "   \"Alvise Giovanni Mocenigo\",\n",
      "   \"List of Doges of Venice\",\n",
      "   \"Ludovico Manin\",\n",
      "   \"Category:Ambassadors of the Republic of Venice to Austria\",\n",
      "   \"Category:1710 births\",\n",
      "   \"Category:1789 deaths\",\n",
      "   \"Category:Baili of Constantinople\",\n",
      "   \"Category:18th-century diplomats\",\n",
      "   \"Category:18th-century Italian people\",\n",
      "   \"Category:18th-century Doges of Venice\",\n",
      "   \"Category:Ambassadors of the Republic of Venice to the Ottoman Empire\"\n",
      "  ]\n",
      " ]\n",
      "]\n"
     ]
    }
   ],
   "source": [
    "r = spark.sql(\"\"\"select title,wikilinks.title from wikipedia_silver_structured_templates where title = 'Paolo Renier'\"\"\")\n",
    "print(json.dumps(r.collect(),indent=1))"
   ]
  }
 ],
 "metadata": {
  "kernelspec": {
   "display_name": "Python 3",
   "language": "python",
   "name": "python3"
  },
  "language_info": {
   "codemirror_mode": {
    "name": "ipython",
    "version": 3
   },
   "file_extension": ".py",
   "mimetype": "text/x-python",
   "name": "python",
   "nbconvert_exporter": "python",
   "pygments_lexer": "ipython3",
   "version": "3.8.8"
  }
 },
 "nbformat": 4,
 "nbformat_minor": 5
}
